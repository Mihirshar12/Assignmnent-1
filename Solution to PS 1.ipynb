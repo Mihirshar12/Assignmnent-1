{
 "cells": [
  {
   "cell_type": "code",
   "execution_count": 27,
   "metadata": {},
   "outputs": [],
   "source": [
    "import pandas as pd \n",
    "import numpy as np"
   ]
  },
  {
   "cell_type": "code",
   "execution_count": 28,
   "metadata": {},
   "outputs": [],
   "source": [
    "data = pd.read_excel('./59260.xlsx')"
   ]
  },
  {
   "cell_type": "code",
   "execution_count": 29,
   "metadata": {},
   "outputs": [],
   "source": [
    "data.drop(labels = data.columns[0], axis = 1, inplace = True)"
   ]
  },
  {
   "cell_type": "code",
   "execution_count": 30,
   "metadata": {},
   "outputs": [
    {
     "data": {
      "text/html": [
       "<div>\n",
       "<style scoped>\n",
       "    .dataframe tbody tr th:only-of-type {\n",
       "        vertical-align: middle;\n",
       "    }\n",
       "\n",
       "    .dataframe tbody tr th {\n",
       "        vertical-align: top;\n",
       "    }\n",
       "\n",
       "    .dataframe thead th {\n",
       "        text-align: right;\n",
       "    }\n",
       "</style>\n",
       "<table border=\"1\" class=\"dataframe\">\n",
       "  <thead>\n",
       "    <tr style=\"text-align: right;\">\n",
       "      <th></th>\n",
       "      <th>Unnamed: 1</th>\n",
       "      <th>Unnamed: 2</th>\n",
       "      <th>Unnamed: 3</th>\n",
       "      <th>Unnamed: 4</th>\n",
       "      <th>Unnamed: 5</th>\n",
       "      <th>Unnamed: 6</th>\n",
       "      <th>Unnamed: 7</th>\n",
       "      <th>Unnamed: 8</th>\n",
       "      <th>Unnamed: 9</th>\n",
       "      <th>Unnamed: 10</th>\n",
       "      <th>Unnamed: 11</th>\n",
       "    </tr>\n",
       "  </thead>\n",
       "  <tbody>\n",
       "    <tr>\n",
       "      <td>0</td>\n",
       "      <td>List of NBFCs holding CoR for accepting Public...</td>\n",
       "      <td>NaN</td>\n",
       "      <td>NaN</td>\n",
       "      <td>NaN</td>\n",
       "      <td>NaN</td>\n",
       "      <td>NaN</td>\n",
       "      <td>NaN</td>\n",
       "      <td>NaN</td>\n",
       "      <td>NaN</td>\n",
       "      <td>NaN</td>\n",
       "      <td>NaN</td>\n",
       "    </tr>\n",
       "    <tr>\n",
       "      <td>1</td>\n",
       "      <td>S No</td>\n",
       "      <td>Name of the company</td>\n",
       "      <td>Regional Office</td>\n",
       "      <td>Address 1</td>\n",
       "      <td>Address 2</td>\n",
       "      <td>Address 3</td>\n",
       "      <td>City</td>\n",
       "      <td>State</td>\n",
       "      <td>Pincode</td>\n",
       "      <td>Email</td>\n",
       "      <td>Fax</td>\n",
       "    </tr>\n",
       "    <tr>\n",
       "      <td>2</td>\n",
       "      <td>1</td>\n",
       "      <td>ARMAN FINANCIAL SERVICES LIMITED</td>\n",
       "      <td>Ahmedabad</td>\n",
       "      <td>501-504,Sakar III</td>\n",
       "      <td>Opp . Old High  Court</td>\n",
       "      <td>Off. Ashram  Road</td>\n",
       "      <td>Ahmedabad</td>\n",
       "      <td>Gujarat</td>\n",
       "      <td>380014</td>\n",
       "      <td>finance@armanindia.com    website:www.armanind...</td>\n",
       "      <td>079  -27543666</td>\n",
       "    </tr>\n",
       "    <tr>\n",
       "      <td>3</td>\n",
       "      <td>2</td>\n",
       "      <td>Chinmay Finlease Ltd</td>\n",
       "      <td>Ahmedabad</td>\n",
       "      <td>Azad Chowk</td>\n",
       "      <td>NaN</td>\n",
       "      <td>Dist: Banaskantha(Ng)</td>\n",
       "      <td>Bhabhar</td>\n",
       "      <td>Gujarat</td>\n",
       "      <td>385320</td>\n",
       "      <td>Yogesh.majithia@gmail.com</td>\n",
       "      <td>02735-222481</td>\n",
       "    </tr>\n",
       "    <tr>\n",
       "      <td>4</td>\n",
       "      <td>3</td>\n",
       "      <td>Ishan Finlease Limited</td>\n",
       "      <td>Ahmedabad</td>\n",
       "      <td>608-609, Pratiksha Complex</td>\n",
       "      <td>Mahalaxmi Panch Rasta,</td>\n",
       "      <td>Near Paldi Cross Road, Paldi</td>\n",
       "      <td>Ahmedabad</td>\n",
       "      <td>Gujarat</td>\n",
       "      <td>380007</td>\n",
       "      <td>contactifpl@gmail.com</td>\n",
       "      <td>NaN</td>\n",
       "    </tr>\n",
       "    <tr>\n",
       "      <td>...</td>\n",
       "      <td>...</td>\n",
       "      <td>...</td>\n",
       "      <td>...</td>\n",
       "      <td>...</td>\n",
       "      <td>...</td>\n",
       "      <td>...</td>\n",
       "      <td>...</td>\n",
       "      <td>...</td>\n",
       "      <td>...</td>\n",
       "      <td>...</td>\n",
       "      <td>...</td>\n",
       "    </tr>\n",
       "    <tr>\n",
       "      <td>78</td>\n",
       "      <td>77</td>\n",
       "      <td>Opel Finance Ltd</td>\n",
       "      <td>Patna</td>\n",
       "      <td>2nd Floor Karpoora House</td>\n",
       "      <td>S P Verma Road</td>\n",
       "      <td>Patna</td>\n",
       "      <td>Patna</td>\n",
       "      <td>Bihar</td>\n",
       "      <td>800 001</td>\n",
       "      <td>opel96@sify.com</td>\n",
       "      <td>236589</td>\n",
       "    </tr>\n",
       "    <tr>\n",
       "      <td>79</td>\n",
       "      <td>78</td>\n",
       "      <td>Kerala  State Power  And  Infrastructure Finan...</td>\n",
       "      <td>Thiruvananthapuram</td>\n",
       "      <td>KPFC Bhavanam</td>\n",
       "      <td>Vellayambalam</td>\n",
       "      <td>Sasthamanglam P.O.</td>\n",
       "      <td>Thiruvananthapuram</td>\n",
       "      <td>Kerala</td>\n",
       "      <td>695 010</td>\n",
       "      <td>kpifc@asianetindia.com</td>\n",
       "      <td>0471-2735522</td>\n",
       "    </tr>\n",
       "    <tr>\n",
       "      <td>80</td>\n",
       "      <td>79</td>\n",
       "      <td>Muthoot Capital Services Ltd.</td>\n",
       "      <td>Thiruvananthapuram</td>\n",
       "      <td>Muthoot Towers</td>\n",
       "      <td>M G Road</td>\n",
       "      <td>Ernakulam</td>\n",
       "      <td>Kerala</td>\n",
       "      <td>Kerala</td>\n",
       "      <td>682035</td>\n",
       "      <td>mcsl@muthootcap.com</td>\n",
       "      <td>0484-2381261</td>\n",
       "    </tr>\n",
       "    <tr>\n",
       "      <td>81</td>\n",
       "      <td>80</td>\n",
       "      <td>Muthoot  Vehicle &amp; Asset  Finance Ltd</td>\n",
       "      <td>Thiruvananthapuram</td>\n",
       "      <td>Muthoot Chambers</td>\n",
       "      <td>Opp:Saritha Theatre Complex</td>\n",
       "      <td>Banerji Road</td>\n",
       "      <td>Kochi</td>\n",
       "      <td>Kerala</td>\n",
       "      <td>682018</td>\n",
       "      <td>mvfl@muthootgroup.com</td>\n",
       "      <td>0484-2396504</td>\n",
       "    </tr>\n",
       "    <tr>\n",
       "      <td>82</td>\n",
       "      <td>81</td>\n",
       "      <td>Sreeragh General Finance  Ltd.</td>\n",
       "      <td>Thiruvananthapuram</td>\n",
       "      <td>40/5454-E</td>\n",
       "      <td>Valavi House,Door No.67/2944,Market Road,</td>\n",
       "      <td>Kombara Junction,Kochi</td>\n",
       "      <td>Kochi</td>\n",
       "      <td>Kerala</td>\n",
       "      <td>682 018</td>\n",
       "      <td>sgfltd.ho@gmail.com</td>\n",
       "      <td>2363756</td>\n",
       "    </tr>\n",
       "  </tbody>\n",
       "</table>\n",
       "<p>83 rows × 11 columns</p>\n",
       "</div>"
      ],
      "text/plain": [
       "                                           Unnamed: 1  \\\n",
       "0   List of NBFCs holding CoR for accepting Public...   \n",
       "1                                                S No   \n",
       "2                                                   1   \n",
       "3                                                   2   \n",
       "4                                                   3   \n",
       "..                                                ...   \n",
       "78                                                 77   \n",
       "79                                                 78   \n",
       "80                                                 79   \n",
       "81                                                 80   \n",
       "82                                                 81   \n",
       "\n",
       "                                           Unnamed: 2          Unnamed: 3  \\\n",
       "0                                                 NaN                 NaN   \n",
       "1                                 Name of the company     Regional Office   \n",
       "2                    ARMAN FINANCIAL SERVICES LIMITED           Ahmedabad   \n",
       "3                                Chinmay Finlease Ltd           Ahmedabad   \n",
       "4                              Ishan Finlease Limited           Ahmedabad   \n",
       "..                                                ...                 ...   \n",
       "78                                   Opel Finance Ltd               Patna   \n",
       "79  Kerala  State Power  And  Infrastructure Finan...  Thiruvananthapuram   \n",
       "80                      Muthoot Capital Services Ltd.  Thiruvananthapuram   \n",
       "81              Muthoot  Vehicle & Asset  Finance Ltd  Thiruvananthapuram   \n",
       "82                     Sreeragh General Finance  Ltd.  Thiruvananthapuram   \n",
       "\n",
       "                    Unnamed: 4                                 Unnamed: 5  \\\n",
       "0                          NaN                                        NaN   \n",
       "1                    Address 1                                  Address 2   \n",
       "2            501-504,Sakar III                      Opp . Old High  Court   \n",
       "3                   Azad Chowk                                        NaN   \n",
       "4   608-609, Pratiksha Complex                     Mahalaxmi Panch Rasta,   \n",
       "..                         ...                                        ...   \n",
       "78    2nd Floor Karpoora House                             S P Verma Road   \n",
       "79               KPFC Bhavanam                              Vellayambalam   \n",
       "80              Muthoot Towers                                   M G Road   \n",
       "81            Muthoot Chambers                Opp:Saritha Theatre Complex   \n",
       "82                   40/5454-E  Valavi House,Door No.67/2944,Market Road,   \n",
       "\n",
       "                      Unnamed: 6          Unnamed: 7 Unnamed: 8 Unnamed: 9  \\\n",
       "0                            NaN                 NaN        NaN        NaN   \n",
       "1                      Address 3                City      State    Pincode   \n",
       "2              Off. Ashram  Road           Ahmedabad    Gujarat     380014   \n",
       "3          Dist: Banaskantha(Ng)             Bhabhar    Gujarat     385320   \n",
       "4   Near Paldi Cross Road, Paldi           Ahmedabad    Gujarat     380007   \n",
       "..                           ...                 ...        ...        ...   \n",
       "78                         Patna               Patna      Bihar    800 001   \n",
       "79            Sasthamanglam P.O.  Thiruvananthapuram     Kerala    695 010   \n",
       "80                     Ernakulam              Kerala     Kerala     682035   \n",
       "81                  Banerji Road               Kochi     Kerala     682018   \n",
       "82        Kombara Junction,Kochi               Kochi     Kerala    682 018   \n",
       "\n",
       "                                          Unnamed: 10     Unnamed: 11  \n",
       "0                                                 NaN             NaN  \n",
       "1                                               Email             Fax  \n",
       "2   finance@armanindia.com    website:www.armanind...  079  -27543666  \n",
       "3                           Yogesh.majithia@gmail.com    02735-222481  \n",
       "4                               contactifpl@gmail.com             NaN  \n",
       "..                                                ...             ...  \n",
       "78                                    opel96@sify.com          236589  \n",
       "79                             kpifc@asianetindia.com    0471-2735522  \n",
       "80                                mcsl@muthootcap.com    0484-2381261  \n",
       "81                              mvfl@muthootgroup.com    0484-2396504  \n",
       "82                                sgfltd.ho@gmail.com         2363756  \n",
       "\n",
       "[83 rows x 11 columns]"
      ]
     },
     "execution_count": 30,
     "metadata": {},
     "output_type": "execute_result"
    }
   ],
   "source": [
    "data"
   ]
  },
  {
   "cell_type": "code",
   "execution_count": 31,
   "metadata": {},
   "outputs": [],
   "source": [
    "correct_column_names = list(data.iloc[1])"
   ]
  },
  {
   "cell_type": "code",
   "execution_count": 32,
   "metadata": {},
   "outputs": [
    {
     "data": {
      "text/plain": [
       "['S No',\n",
       " 'Name of the company',\n",
       " 'Regional Office',\n",
       " 'Address 1',\n",
       " 'Address 2',\n",
       " 'Address 3',\n",
       " 'City',\n",
       " 'State',\n",
       " 'Pincode',\n",
       " 'Email',\n",
       " 'Fax']"
      ]
     },
     "execution_count": 32,
     "metadata": {},
     "output_type": "execute_result"
    }
   ],
   "source": [
    "correct_column_names"
   ]
  },
  {
   "cell_type": "code",
   "execution_count": 33,
   "metadata": {},
   "outputs": [],
   "source": [
    "data = data.iloc[2:,:]"
   ]
  },
  {
   "cell_type": "code",
   "execution_count": 34,
   "metadata": {},
   "outputs": [
    {
     "data": {
      "text/html": [
       "<div>\n",
       "<style scoped>\n",
       "    .dataframe tbody tr th:only-of-type {\n",
       "        vertical-align: middle;\n",
       "    }\n",
       "\n",
       "    .dataframe tbody tr th {\n",
       "        vertical-align: top;\n",
       "    }\n",
       "\n",
       "    .dataframe thead th {\n",
       "        text-align: right;\n",
       "    }\n",
       "</style>\n",
       "<table border=\"1\" class=\"dataframe\">\n",
       "  <thead>\n",
       "    <tr style=\"text-align: right;\">\n",
       "      <th></th>\n",
       "      <th>Unnamed: 1</th>\n",
       "      <th>Unnamed: 2</th>\n",
       "      <th>Unnamed: 3</th>\n",
       "      <th>Unnamed: 4</th>\n",
       "      <th>Unnamed: 5</th>\n",
       "      <th>Unnamed: 6</th>\n",
       "      <th>Unnamed: 7</th>\n",
       "      <th>Unnamed: 8</th>\n",
       "      <th>Unnamed: 9</th>\n",
       "      <th>Unnamed: 10</th>\n",
       "      <th>Unnamed: 11</th>\n",
       "    </tr>\n",
       "  </thead>\n",
       "  <tbody>\n",
       "    <tr>\n",
       "      <td>2</td>\n",
       "      <td>1</td>\n",
       "      <td>ARMAN FINANCIAL SERVICES LIMITED</td>\n",
       "      <td>Ahmedabad</td>\n",
       "      <td>501-504,Sakar III</td>\n",
       "      <td>Opp . Old High  Court</td>\n",
       "      <td>Off. Ashram  Road</td>\n",
       "      <td>Ahmedabad</td>\n",
       "      <td>Gujarat</td>\n",
       "      <td>380014</td>\n",
       "      <td>finance@armanindia.com    website:www.armanind...</td>\n",
       "      <td>079  -27543666</td>\n",
       "    </tr>\n",
       "    <tr>\n",
       "      <td>3</td>\n",
       "      <td>2</td>\n",
       "      <td>Chinmay Finlease Ltd</td>\n",
       "      <td>Ahmedabad</td>\n",
       "      <td>Azad Chowk</td>\n",
       "      <td>NaN</td>\n",
       "      <td>Dist: Banaskantha(Ng)</td>\n",
       "      <td>Bhabhar</td>\n",
       "      <td>Gujarat</td>\n",
       "      <td>385320</td>\n",
       "      <td>Yogesh.majithia@gmail.com</td>\n",
       "      <td>02735-222481</td>\n",
       "    </tr>\n",
       "    <tr>\n",
       "      <td>4</td>\n",
       "      <td>3</td>\n",
       "      <td>Ishan Finlease Limited</td>\n",
       "      <td>Ahmedabad</td>\n",
       "      <td>608-609, Pratiksha Complex</td>\n",
       "      <td>Mahalaxmi Panch Rasta,</td>\n",
       "      <td>Near Paldi Cross Road, Paldi</td>\n",
       "      <td>Ahmedabad</td>\n",
       "      <td>Gujarat</td>\n",
       "      <td>380007</td>\n",
       "      <td>contactifpl@gmail.com</td>\n",
       "      <td>NaN</td>\n",
       "    </tr>\n",
       "    <tr>\n",
       "      <td>5</td>\n",
       "      <td>4</td>\n",
       "      <td>JAYLAKSHMI CREDIT COMPANY LIMITED</td>\n",
       "      <td>Ahmedabad</td>\n",
       "      <td>3/209, Ghanchi Sheri</td>\n",
       "      <td>Navapura</td>\n",
       "      <td>NaN</td>\n",
       "      <td>Surat</td>\n",
       "      <td>Gujarat</td>\n",
       "      <td>395003</td>\n",
       "      <td>smn_kadoli@yahoo.com</td>\n",
       "      <td>0261-2431085</td>\n",
       "    </tr>\n",
       "    <tr>\n",
       "      <td>6</td>\n",
       "      <td>5</td>\n",
       "      <td>K.Z. Leasing &amp; Finance Ltd</td>\n",
       "      <td>Ahmedabad</td>\n",
       "      <td>1st Floor,Deshna Chambers</td>\n",
       "      <td>B/H Kadva  Patidar Vadi</td>\n",
       "      <td>Usmanpura , Ashram Road</td>\n",
       "      <td>Ahmedabad</td>\n",
       "      <td>Gujarat</td>\n",
       "      <td>380014</td>\n",
       "      <td>kzleasing@yahoo.com</td>\n",
       "      <td>NaN</td>\n",
       "    </tr>\n",
       "  </tbody>\n",
       "</table>\n",
       "</div>"
      ],
      "text/plain": [
       "  Unnamed: 1                         Unnamed: 2 Unnamed: 3  \\\n",
       "2          1   ARMAN FINANCIAL SERVICES LIMITED  Ahmedabad   \n",
       "3          2               Chinmay Finlease Ltd  Ahmedabad   \n",
       "4          3             Ishan Finlease Limited  Ahmedabad   \n",
       "5          4  JAYLAKSHMI CREDIT COMPANY LIMITED  Ahmedabad   \n",
       "6          5         K.Z. Leasing & Finance Ltd  Ahmedabad   \n",
       "\n",
       "                   Unnamed: 4               Unnamed: 5  \\\n",
       "2           501-504,Sakar III    Opp . Old High  Court   \n",
       "3                  Azad Chowk                      NaN   \n",
       "4  608-609, Pratiksha Complex   Mahalaxmi Panch Rasta,   \n",
       "5        3/209, Ghanchi Sheri                 Navapura   \n",
       "6   1st Floor,Deshna Chambers  B/H Kadva  Patidar Vadi   \n",
       "\n",
       "                     Unnamed: 6 Unnamed: 7 Unnamed: 8 Unnamed: 9  \\\n",
       "2             Off. Ashram  Road  Ahmedabad    Gujarat     380014   \n",
       "3         Dist: Banaskantha(Ng)    Bhabhar    Gujarat     385320   \n",
       "4  Near Paldi Cross Road, Paldi  Ahmedabad    Gujarat     380007   \n",
       "5                           NaN      Surat    Gujarat     395003   \n",
       "6       Usmanpura , Ashram Road  Ahmedabad    Gujarat     380014   \n",
       "\n",
       "                                         Unnamed: 10     Unnamed: 11  \n",
       "2  finance@armanindia.com    website:www.armanind...  079  -27543666  \n",
       "3                          Yogesh.majithia@gmail.com    02735-222481  \n",
       "4                              contactifpl@gmail.com             NaN  \n",
       "5                               smn_kadoli@yahoo.com    0261-2431085  \n",
       "6                                kzleasing@yahoo.com             NaN  "
      ]
     },
     "execution_count": 34,
     "metadata": {},
     "output_type": "execute_result"
    }
   ],
   "source": [
    "data.head()"
   ]
  },
  {
   "cell_type": "code",
   "execution_count": 35,
   "metadata": {},
   "outputs": [
    {
     "data": {
      "text/plain": [
       "(81, 11)"
      ]
     },
     "execution_count": 35,
     "metadata": {},
     "output_type": "execute_result"
    }
   ],
   "source": [
    "data.shape"
   ]
  },
  {
   "cell_type": "code",
   "execution_count": 36,
   "metadata": {},
   "outputs": [],
   "source": [
    "data_array = np.array(data)"
   ]
  },
  {
   "cell_type": "code",
   "execution_count": 37,
   "metadata": {},
   "outputs": [
    {
     "data": {
      "text/plain": [
       "array([[1, 'ARMAN FINANCIAL SERVICES LIMITED', 'Ahmedabad',\n",
       "        '501-504,Sakar III', 'Opp . Old High  Court',\n",
       "        'Off. Ashram  Road', 'Ahmedabad', 'Gujarat', '380014',\n",
       "        'finance@armanindia.com    website:www.armanindia.com',\n",
       "        '079  -27543666'],\n",
       "       [2, 'Chinmay Finlease Ltd', 'Ahmedabad', 'Azad Chowk', nan,\n",
       "        'Dist: Banaskantha(Ng)', 'Bhabhar', 'Gujarat', '385320',\n",
       "        'Yogesh.majithia@gmail.com', '02735-222481'],\n",
       "       [3, 'Ishan Finlease Limited', 'Ahmedabad',\n",
       "        '608-609, Pratiksha Complex', 'Mahalaxmi Panch Rasta,',\n",
       "        'Near Paldi Cross Road, Paldi', 'Ahmedabad', 'Gujarat', '380007',\n",
       "        'contactifpl@gmail.com', nan],\n",
       "       [4, 'JAYLAKSHMI CREDIT COMPANY LIMITED', 'Ahmedabad',\n",
       "        '3/209, Ghanchi Sheri', 'Navapura', nan, 'Surat', 'Gujarat',\n",
       "        '395003', 'smn_kadoli@yahoo.com', '0261-2431085'],\n",
       "       [5, 'K.Z. Leasing & Finance Ltd', 'Ahmedabad',\n",
       "        '1st Floor,Deshna Chambers', 'B/H Kadva  Patidar Vadi',\n",
       "        'Usmanpura , Ashram Road', 'Ahmedabad', 'Gujarat', '380014',\n",
       "        'kzleasing@yahoo.com', nan],\n",
       "       [6, 'NORTH POLE FINANCE LIMITED', 'Ahmedabad', '218-219',\n",
       "        'Star Chambers,', 'Harihar Chowk, Sadar', 'Rajkot', 'Gujarat',\n",
       "        nan, 'northpolefinanceltd@hotmail.com', nan],\n",
       "       [7, 'Rajath Finance Ltd', 'Ahmedabad', '208-215,Star Plaza',\n",
       "        'Phulchhab Chowk', 'Rajkot', 'Rajkot', 'Gujarat', '360001',\n",
       "        'rajathfin@hotmail.com / investorrelation-rajath@hotmail.com',\n",
       "        '0281-2454271;'],\n",
       "       [8, 'Chemm Finance Ltd', 'Bengaluru', 'No:19, 3 Rd  Cross,',\n",
       "        'KCD Complex, Mission Road Cross,',\n",
       "        'J Block, Behind Unity Building, J.C.Road', 'Bangalore',\n",
       "        'Karnataka', '560027',\n",
       "        'chemmfinance@chemmnur.com;veenachemmfinance@gmail.com',\n",
       "        '22210559'],\n",
       "       [9, 'Trikaal Leasing And Finance Ltd', 'Bengaluru',\n",
       "        'Trikaal Towers', 'Mahishi Road', 'Malmaddi', 'Dharwad', nan,\n",
       "        '580 007',\n",
       "        'deshpandepublicity@gmail.com, trikaalfinance@gmail.com',\n",
       "        '0836-2795425'],\n",
       "       [10, 'Akal Hire Purchase Ltd, Jalandhar', 'Chandigarh',\n",
       "        '36-Gobind Niwas,', '1St Floor', 'G. T. Road', 'Jalandhar',\n",
       "        'Punjab', '144 001', 'ashwaninahar@gmail.com', nan],\n",
       "       [11, 'Alamgir Motor Finance Ltd', 'Chandigarh', '186',\n",
       "        'Street No 2', 'Dashmesh Nagar, Gill Chowk', 'Ludhiana',\n",
       "        'Punjab', '141003', 'casatprakash@yahoo.cin', '-'],\n",
       "       [12, 'Amrit Malwa Capital Limited', 'Chandigarh',\n",
       "        'Jay Ess Tower, Cool Road', 'Opposit IDBI Bank', 'Jalandhar',\n",
       "        'Jalandhar', 'Punjab', '144001',\n",
       "        'amcgroup@amritmalwacapital.com', '2456849'],\n",
       "       [13, 'Baba Purandass Financial Services Ltd.', 'Chandigarh',\n",
       "        '210', 'Narottam Nagar', '-', 'Khanna', 'Punjab', '141 401',\n",
       "        'bpdfinance@aol.in', nan],\n",
       "       [14, 'Delhi Punjab Finance Company Limited', 'Chandigarh', '5,',\n",
       "        'Patel Chowk', 'G.T. Road', 'Jalandhar', 'Punjab', '144008',\n",
       "        'prince_dhamija@yahoo.com', nan],\n",
       "       [15, 'Ekjot Advances Limited, Jalandhar', 'Chandigarh',\n",
       "        '1st Floor, 3245/22', 'Super Cycle Market, Chet Singh Nagar',\n",
       "        'Gill Road', 'Ludhiana', 'Punjab', '141 003',\n",
       "        'ekjotadvances@gmail.com', nan],\n",
       "       [16, 'Jalandhar Cargo Advances Ltd.', 'Chandigarh', '5th Floor',\n",
       "        '556B, Cool Road', '-', 'Jalandhar', 'Punjab', '144001',\n",
       "        'jcajalandhar@hotmail.com', nan],\n",
       "       [17, 'Kim Investments Limited', 'Chandigarh', '206-207,',\n",
       "        'Chaudhary Complex', 'Hide Market', 'Amritsar', 'Punjab',\n",
       "        '143001', 'openupharvinder@siffy.com', nan],\n",
       "       [18, 'Nau-Nidh Finance Ltd.', 'Chandigarh',\n",
       "        'Ward No 27, Raghbir Enclave',\n",
       "        'Opp. Shivalik Enclave, Near Chungi No. 3', 'Kotkapura Road',\n",
       "        'Moga', 'Punjab', '142001', 'ssheera@nnfl.in', nan],\n",
       "       [19, 'P. H. F. Leasing Ltd', 'Chandigarh', '923 G T Road', '-',\n",
       "        '-', 'Jalandhar', 'Punjab', '144001',\n",
       "        'phf_leasingltd@yahoo.co.in', nan],\n",
       "       [20, 'PKF Finance Ltd.', 'Chandigarh', '317, New  Jawahar Nagar',\n",
       "        'Jalandhar City', '-', 'Jalandhar', 'Punjab', '144001',\n",
       "        'rakeshgupta@pkffinance.com', '0181-2236802'],\n",
       "       [21, 'Punjab Kashmir Finance Ltd', 'Chandigarh', '16',\n",
       "        'Defence Colony', 'Jalandhar', 'Jalandhar', 'Punjab', '144001',\n",
       "        'aloksondhi@pkffinance.com', nan],\n",
       "       [22, 'Sagar Deposits And Advances Ltd.', 'Chandigarh', 'Scf 272',\n",
       "        '2Nd Floor', 'Motor Mrket, Manimajra', 'Chandigarh',\n",
       "        'Chandigarh', '160101', nan, nan],\n",
       "       [23, 'DECCAN FINANCE LIMITED', 'Chennai', '75, Old No 34-B,',\n",
       "        'Mahatma Gandhi Road', 'Nungambakkam', 'Chennai', 'TAMIL NADU',\n",
       "        '600 034', 'deccanfinance@gmail.com', '044-42068258'],\n",
       "       [24, 'EXCELLENT FIN-INVEST LTD', 'Chennai',\n",
       "        '66, Perumal Koil Street', 'West Saidapet', 'Chennai', 'Chennai',\n",
       "        'TAMIL NADU', '600 015', nan, nan],\n",
       "       [25, 'FULLERTON INDIA CREDIT COMPANY LIMITED', 'Chennai',\n",
       "        'MEGH TOWERS, THIRD FLOOR, OLDNO 307 NEW NO 165', 'PH ROAD,',\n",
       "        'MADHURAVOYAL', 'CHENNAI', 'TAMILNADU', '600095',\n",
       "        'anil.sharma@fullertonindia.com', '044-42886512'],\n",
       "       [26, 'GALADA FINANCE LIMITED', 'Chennai',\n",
       "        'Old #4, New #7,Shaffee Mohamed Road', 'Thousand Lights',\n",
       "        'Chennai', 'Chennai', 'TAMIL NADU', '600 006',\n",
       "        'galadafinancelimited@yahoo.co.in', '43099009/28294830'],\n",
       "       [27, 'GOVE FINANCE LIMITED', 'Chennai',\n",
       "        'NEW NO. 199 ( OLD NO 144)', 'Anna Salai,', 'Chennai', 'Chennai',\n",
       "        'TAMIL NADU', '600 002', 'goveaccts@vstmotors.com',\n",
       "        '044-28601143'],\n",
       "       [28, 'G T P FINANCE LIMITED', 'Chennai', '4/36 Bharathi Street',\n",
       "        'Swarnapuri', 'Salem', 'Salem', 'Tamil Nadu', '636 004',\n",
       "        'gtpfinanceltd@gmail.com', '0427-2448744'],\n",
       "       [29, 'INDO ASIA FINANCE LIMITED', 'Chennai',\n",
       "        '15,   New Giri Road', 'Off.G.N. Chetty Road', 'T.Nagar',\n",
       "        'Chennai', 'Tamil Nadu', '600 017', 'gmfin@indoasiafin.com',\n",
       "        '044-28341280'],\n",
       "       [30, 'INTEGRATED FINANCE COMPANY LIMITED', 'Chennai',\n",
       "        'No 10, R Block,2 Floor, Prem Nagar colony', 'South Boag Road',\n",
       "        'T.Nagar', 'Chennai', 'TAMIL NADU', '600 017',\n",
       "        'ifcl_hoo@satyam.net.in', '044-24310454'],\n",
       "       [31, 'KARUR GAYATHIRI FINANCE LIMITED', 'Chennai',\n",
       "        'K.V.R.Complex II  Floor', '21-H, 80 Feet Road', 'Karur',\n",
       "        'Karur', 'TAMIL NADU', '639 002',\n",
       "        'gayathirifinltd@dataone.in/gayathiriltd@gmail.com', nan],\n",
       "       [32, 'NEWLINK OVERSEAS FINANCE LIMITED', 'Chennai',\n",
       "        'Mamatha Complex II Floor', 'No. 25, (old no 13), Whites Road',\n",
       "        'Royapettah', 'Chennai', 'TAMIL NADU', '600 014',\n",
       "        'newlin.nofl@gmail.com', '28585248'],\n",
       "       [33, 'SAKTHI FINANCE LIMITED', 'Chennai', '62, Dr. Nanjappa Road',\n",
       "        nan, 'Coimbatore', 'Coimbatore', 'TAMIL NADU', '641018',\n",
       "        'sakthif_info@sakthifinance.com', '0422-2231915'],\n",
       "       [34, 'SEYAD SHARIAT FINANCE LIMITED', 'Chennai',\n",
       "        'House Of Seyad,II Floor', 'North Bye-Pass Road,',\n",
       "        'Vannarpettai', 'Tirunelveli', 'TAMIL NADU', '627 001', nan, nan],\n",
       "       [35, 'SHRIRAM CITY UNION FINANCE LIMITED', 'Chennai',\n",
       "        '123, Angappa Naicken Street', nan, nan, 'Chennai', 'Tamil nadu',\n",
       "        '600 001', 'sv@shriram.com', '044-24993272'],\n",
       "       [36, 'SHRIRAM TRANSPORT FINANCE COMPANY LIMITED', 'Chennai',\n",
       "        'MOOKAMBIKA COMPLEX III FLOOR', '4 LADY DESIKACHARI ROAD',\n",
       "        'MYLAPORE', 'CHENNAI', 'TAMIL NADU', '600 004', 'sv@shriram.com',\n",
       "        '24993272'],\n",
       "       [37, 'SRI VIJAYARAM HIRE PURCHASE AND LEASING FINANCE LIMITED',\n",
       "        'Chennai', '14, Thayumanavar Street', 'Attur', 'Salem', 'Salem',\n",
       "        'TAMIL NADU', '636 102',\n",
       "        'vijayramhirepurchase@gmail.com/sarunachalam@gmail.com',\n",
       "        '04282-253736'],\n",
       "       [38, 'SUNDARAM FINANCE LIMITED', 'Chennai', 'No 21,Patullos Road',\n",
       "        'Off.Mount Road', 'Chennai', 'Chennai', 'TAMIL NADU', '600 002',\n",
       "        'sfl@sundaramfinance.com', '044-28586641'],\n",
       "       [39, 'TAMILNADU INDUSTRIAL DEVELOPMENT CORPORATION LIMITED',\n",
       "        'Chennai', '19A,  Rukmani Lakshmipathy Salai', 'Egmore',\n",
       "        'Chennai- 8', 'Chennai', 'TAMIL NADU', '600 008',\n",
       "        'tidco@md3.vsnl.net.in', '28537729'],\n",
       "       [40,\n",
       "        'TAMILNADU POWER FINANCE AND INFRASTRUCTURE DEVELOPMENT CORPORATION LIMITED',\n",
       "        'Chennai', '\"Tufidco - Powerfin Tower\"',\n",
       "        'No. 490/3-4 Anna Salai', 'Nandanam', 'Chennai', 'TAMIL NADU',\n",
       "        '600 035', 'tnpowerfinance@gmail.com', '24329914'],\n",
       "       [41,\n",
       "        'TAMILNADU TRANSPORT DEVELOPMENT FINANCE CORPORATION LIMITED',\n",
       "        'Chennai', '2 Wallaja Road,', 'Triplicane,Tourism Complex',\n",
       "        'Chennai-600 002.', 'Chennai', 'TAMIL NADU', '600 006',\n",
       "        'tdfc@giasmd01.vsnl.net.in', '044-25392934'],\n",
       "       [42,\n",
       "        'TAMILNADU URBAN FINANCE AND INFRASTRUCTURE DEVELOPMENT CORPORATION LIMITED',\n",
       "        'Chennai', '490/1&2, Anna Salai', 'Nandanam', 'Chennai',\n",
       "        'Chennai', 'TAMIL NADU', '600 035', 'tufidco@md3.vsnl.net.in',\n",
       "        '24329800'],\n",
       "       [43, 'TRANCITY FINANCE LIMITED', 'Chennai', 'Mullai Mahal',\n",
       "        '8 Narashimma Sannathi Street', 'Fort', 'Namakkal', 'TAMIL NADU',\n",
       "        '637 001', 'mullaimurugesan@gmail.com', nan],\n",
       "       [44, 'VIJAY HEMANT FINANCE AND ESTATES LIMITED', 'Chennai',\n",
       "        'Prakash Presidium', '110, Mahatma Gandhi Road', 'Chennai',\n",
       "        'Chennai', 'Tamil Nadu', '600 034',\n",
       "        'saravananmpg@gmail.com/jayabharath77@yahoo.co.in', '28225225'],\n",
       "       [45, 'Gee Cee Advance Finance Limited', 'Jammu', '45',\n",
       "        'Transport Nagar', 'Narwal', 'Jammu', 'Jammu and Kashmir', nan,\n",
       "        'geeceeadvance@gmail.com', nan],\n",
       "       [46, 'NeelGagan Finance Limited', 'Jammu', '130A',\n",
       "        'J.D.A. Shopping Complex', 'Nehru Market', 'Jammu', nan,\n",
       "        '180001', 'neelgaganfinance20@gmail.com', nan],\n",
       "       [47, 'Sangam Hire Purchase Company Limited', 'Jammu', '29-B',\n",
       "        'Old Nehru Market', 'Jammu', 'Jammu', 'Jammu & Kashmir',\n",
       "        '180004', nan, nan],\n",
       "       [48, 'Sangrama Motors Finance India Limited', 'Jammu',\n",
       "        'Near Vishawkarma Mandir', 'Bakshi Nagar', 'Jammu', 'Jammu',\n",
       "        'Jammu & Kashmir', '180001', nan, nan],\n",
       "       [49, 'S.P.R. Finance Limited', 'Jammu',\n",
       "        'Kingsway House New  Market', 'R N Bazar', 'Jammu', 'Jammu',\n",
       "        'Jammu & Kashmir', '180001', nan, nan],\n",
       "       [50, 'Sudershan Hire Purchase Limited', 'Jammu', '6-C.Extn.',\n",
       "        'Nehru Market', 'Jammu', 'Jammu', 'Jammu & Kashmir', '180004',\n",
       "        nan, nan],\n",
       "       [51, 'Abhinav Hire Purchase Limited', 'Kanpur', 'Station Road',\n",
       "        'Ujhani', 'Distt. - Budaun', 'Badaun', 'Uttar Pradesh', '243639',\n",
       "        'abhishekagarwal007@hotmail.com, raj_varshney777@gmail.com', nan],\n",
       "       [52, 'Balaji Instalments Limited', 'Kanpur',\n",
       "        'Madhuban Shopping Complex', 'Station Road', nan, 'Pilibhit',\n",
       "        'Uttar Pradesh', '262001', 'dp_ag@rediffmail.com', nan],\n",
       "       [53, 'Dhara Motor Finance Limited', 'Kanpur', 'Dhara Complex',\n",
       "        'Civil Line 1', nan, 'Bijnor', 'Uttar Pradesh', '246701',\n",
       "        'cmehra47@rediffmail.com; dmf bijnor@yahoo.com',\n",
       "        'MOB : 9412713159'],\n",
       "       [54, 'Kanak Instalments Limited', 'Kanpur', '214-A,  First Floor',\n",
       "        'Amarshree Complex, Near Metro Plaza', 'Delhi Road', 'Meerut',\n",
       "        'Uttar Pradesh', '250 002', 'kanakinstalmentslimited@yahoo.com',\n",
       "        nan],\n",
       "       [55, 'Proficient Leasing and Finance Limited', 'Kanpur',\n",
       "        'W-11, Cooper Road', 'Civil Lines', nan, 'Allahabad',\n",
       "        'Uttar Pradesh', '211001',\n",
       "        'u.prasad@rediffmail.com; sbhakta.plfl@gmail.com, kn.shridhar@yahoo.co.in',\n",
       "        nan],\n",
       "       [56, 'Star Instalment Supply Co. Ltd.', 'Kanpur', 'Zari Building',\n",
       "        'Shyam Ganj', nan, 'Bareilly', 'Uttar Pradesh', '243 005',\n",
       "        'sharma.rk199@gmail.com', '0581 - 2586449'],\n",
       "       [57, 'The Peerless General Finance & Investment Company Ltd',\n",
       "        'Kolkata', 'Peerless Bhawan', '3, Esplanade East', 'Kolkata',\n",
       "        'Kolkata', 'West Bengal', '700069', 'peerless@cal3.vsnl.net.in',\n",
       "        '033 -22485197'],\n",
       "       [58, 'Bajaj Finance Ltd. [Formerly: Bajaj Auto Finance Ltd.]',\n",
       "        'Mumbai', 'C/O Bajaj Auto Ltd, Mumbai Pune Road', 'Akurdi',\n",
       "        'Pune', 'Pune', nan, '411 035',\n",
       "        'satish.shimpi@bajajfinserv.in; anant.damle@bajajfinserv.in; pankaj.thadani@bajajfinserv.in',\n",
       "        '020 2748 4486'],\n",
       "       [59, 'Berar Finance Limited', 'Mumbai', 'Avinash Towers,',\n",
       "        'Mehadia Square', 'Dhantoli', 'Nagpur', nan, '440 012',\n",
       "        'deepali.balpande@berarfinance.com; berarfinance@yahoo.com; info@berarfinance.com; cmd@berarfinance.com',\n",
       "        nan],\n",
       "       [60, 'Jayabharat Credit Ltd', 'Mumbai',\n",
       "        '22, Rajabahadur Mansion, 4th floor, Near Stock Exchange,',\n",
       "        'Opp. SBI Main Branch,', '\"Mumbai Samachar Marg,', 'Mumbai', nan,\n",
       "        '400 023', 'jcl@jayabharat.com;sg@jayabharat.com;', '2266 4813'],\n",
       "       [61, 'Mahindra & Mahindra Financial Services Ltd', 'Mumbai',\n",
       "        'gateway Building', 'Appollo Bunder', nan, 'Mumbai',\n",
       "        'Maharashtra', '400 001',\n",
       "        'PILLAI.SHIVALINGAM@mahindra.com;MANSINGHKA.VARUN@mahindra.com; KEDIA.AMIT@mahindra.com; MORE.HEMANT@mahindra.com; POOJARY.ARUNA@mahindra.com; BILDANI.RAKESH@mahindra.com',\n",
       "        '2287 5485'],\n",
       "       [62, 'MOONSHINE FINVEST LIMITED', 'Mumbai', 'Limdawadi, Navapur',\n",
       "        'Taluka- Navapur', nan, 'Navapur', nan, '425 418',\n",
       "        'caamit@yahoo.com', nan],\n",
       "       [63, 'ACG SONS FINANCIERS LTD.', 'New Delhi', 'B-V-81',\n",
       "        'Mal Godam Road', 'Rohtak', 'Rohtak, Haryana', 'New Delhi',\n",
       "        '124001', 'deepdita@hotmail.com / Rakesh Gugnani (m) 9813010374',\n",
       "        '0'],\n",
       "       [64, 'Auto & Household Finance (India) Limited', 'New Delhi',\n",
       "        '302, AVADH COMPLEX,  New 310, Avadh complex',\n",
       "        'D-5, LAXMI NAGAR, New D-5, Laxmi Nagar, Delhi - 110092', nan,\n",
       "        'Delhi', nan, '110 092', 'autofinanceindia@gmail.com', '0'],\n",
       "       [65, 'Bansal Credits Limited', 'New Delhi',\n",
       "        '2Nd Floor (Above Allahabad Bank)', '1, Ansari Road,',\n",
       "        'Daryaganj', 'New Delhi', 'New Delhi', '110 002',\n",
       "        'bansalcredits@gmail.com', '011-23242127-30'],\n",
       "       [66, 'Goodluck Advances & Finlease  Limited', 'New Delhi',\n",
       "        '405, Skylark Building/ 105, FF 5, Pratap Bhawan',\n",
       "        '60 Nehru Place/ Bahadur Shah Zafar Marg,', nan,\n",
       "        'New Delhi/Delhi', nan, '110019/110002',\n",
       "        'goodluckbathinda@hotmail.com', '0'],\n",
       "       [67, 'Honhar Investments  Limited,', 'New Delhi',\n",
       "        '72-C, Pocket 14-A', 'Himgiri Appartments', 'Kalka Ji Extn.',\n",
       "        'New Delhi', 'New Delhi', '110019', nan, '0'],\n",
       "       [68, 'Jindal Fincap Ltd.', 'New Delhi', 'D-596, C.R. Park',\n",
       "        'Near Deshbandhu College', 'Kalkaji', 'New Delhi', nan, '110019',\n",
       "        'chaubeyjfl@yahoo.com', nan],\n",
       "       [69, 'Naini Fincap  Limited', 'New Delhi', 'A -3/316',\n",
       "        '2nd FLOOR', 'Paschim  Vihar', 'New Delhi', 'New Delhi',\n",
       "        '110 063', 'nainifincap@yahoo.com', '0'],\n",
       "       [70, 'Nawanshahr Finance Ltd.', 'New Delhi',\n",
       "        'NAWANSHAHR FINANCE LTD.', '3RD FLOOR,SUMAN COMPLEX,23/18',\n",
       "        'OLD JUDICIAL COMPLEX,CIVIL LINES ROAD,MOR CHOWK', 'GURGAON',\n",
       "        'Haryana', '122001', 'NFL.FINANCE@GMAIL.COM', 'Mob.-9999447034'],\n",
       "       [71, 'Samrat Motor Finance  Ltd.', 'New Delhi',\n",
       "        'Office No-502, New : Office No. 33, 1st Floor, DDA Market',\n",
       "        '5 th Floor, Pragati Deep Building, New : Punjabi Bagh Extension',\n",
       "        'District Centre, Laxmi Nagar', 'Delhi New: New Delhi', 'Delhi',\n",
       "        '110 092 New 110026', nan, '0'],\n",
       "       [72, 'The Delhi Safe Deposit Company Ltd.', 'New Delhi', '86,',\n",
       "        'Janpath', 'New Delhi', 'Delhi', 'New Delhi', '110 001',\n",
       "        'delsafe@dsdgroup.co.in', '011-23324951'],\n",
       "       [73, 'Umeed Leasing & Finance Ltd.', 'New Delhi',\n",
       "        'H.No. 304, 1st Floor', 'Block B, Saraswati Vihar', 'Pitampura',\n",
       "        'DELHI', 'New Delhi', '110034', nan, '0'],\n",
       "       [74, 'Uttam Chand Arora Leasing & Finance Ltd.', 'New Delhi',\n",
       "        'Plot No. 111, 3rd Floor',\n",
       "        'Sudershan Road, Near Hyundai Workship', 'Gautam Nagar',\n",
       "        'New Delhi', nan, '110 049',\n",
       "        'fcs2280@gmail.com/uttamleasing @gmail.com', '0'],\n",
       "       [75, 'Vivek Motor Finance Ltd.', 'New Delhi', 'H.No.  107/4',\n",
       "        'Gali No.1', 'East Azad Nagar', 'Delhi', 'New Delhi', '110 006',\n",
       "        'Vmf_finance@yahoo.com', nan],\n",
       "       [76, 'Grihastha Finance Ltd', 'Patna', 'C/O SMT. RUPAM PRASAD,',\n",
       "        'NEAR DHARAMPUR HIGH SCHOOL, SHIVPURI,', 'TAJPUR ROAD',\n",
       "        'SAMASTIPUR', 'Bihar', '848101',\n",
       "        'grihastha.finance@gmail.com; sandeep@grihasthafinance.com', nan],\n",
       "       [77, 'Opel Finance Ltd', 'Patna', '2nd Floor Karpoora House',\n",
       "        'S P Verma Road', 'Patna', 'Patna', 'Bihar', '800 001',\n",
       "        'opel96@sify.com', '236589'],\n",
       "       [78,\n",
       "        'Kerala  State Power  And  Infrastructure Finance Corporation  Ltd.',\n",
       "        'Thiruvananthapuram', 'KPFC Bhavanam', 'Vellayambalam',\n",
       "        'Sasthamanglam P.O.', 'Thiruvananthapuram', 'Kerala', '695 010',\n",
       "        'kpifc@asianetindia.com', '0471-2735522'],\n",
       "       [79, 'Muthoot Capital Services Ltd.', 'Thiruvananthapuram',\n",
       "        'Muthoot Towers', 'M G Road', 'Ernakulam', 'Kerala', 'Kerala',\n",
       "        '682035', 'mcsl@muthootcap.com', '0484-2381261'],\n",
       "       [80, 'Muthoot  Vehicle & Asset  Finance Ltd',\n",
       "        'Thiruvananthapuram', 'Muthoot Chambers',\n",
       "        'Opp:Saritha Theatre Complex', 'Banerji Road', 'Kochi', 'Kerala',\n",
       "        '682018', 'mvfl@muthootgroup.com', '0484-2396504'],\n",
       "       [81, 'Sreeragh General Finance  Ltd.', 'Thiruvananthapuram',\n",
       "        '40/5454-E', 'Valavi House,Door No.67/2944,Market Road,',\n",
       "        'Kombara Junction,Kochi', 'Kochi', 'Kerala', '682 018',\n",
       "        'sgfltd.ho@gmail.com', '2363756']], dtype=object)"
      ]
     },
     "execution_count": 37,
     "metadata": {},
     "output_type": "execute_result"
    }
   ],
   "source": [
    "data_array"
   ]
  },
  {
   "cell_type": "code",
   "execution_count": 38,
   "metadata": {},
   "outputs": [
    {
     "data": {
      "text/plain": [
       "(81, 11)"
      ]
     },
     "execution_count": 38,
     "metadata": {},
     "output_type": "execute_result"
    }
   ],
   "source": [
    "data_array.shape"
   ]
  },
  {
   "cell_type": "code",
   "execution_count": 39,
   "metadata": {},
   "outputs": [],
   "source": [
    "correct_data = pd.DataFrame(data=data_array,columns = correct_column_names)"
   ]
  },
  {
   "cell_type": "code",
   "execution_count": 40,
   "metadata": {},
   "outputs": [
    {
     "data": {
      "text/html": [
       "<div>\n",
       "<style scoped>\n",
       "    .dataframe tbody tr th:only-of-type {\n",
       "        vertical-align: middle;\n",
       "    }\n",
       "\n",
       "    .dataframe tbody tr th {\n",
       "        vertical-align: top;\n",
       "    }\n",
       "\n",
       "    .dataframe thead th {\n",
       "        text-align: right;\n",
       "    }\n",
       "</style>\n",
       "<table border=\"1\" class=\"dataframe\">\n",
       "  <thead>\n",
       "    <tr style=\"text-align: right;\">\n",
       "      <th></th>\n",
       "      <th>S No</th>\n",
       "      <th>Name of the company</th>\n",
       "      <th>Regional Office</th>\n",
       "      <th>Address 1</th>\n",
       "      <th>Address 2</th>\n",
       "      <th>Address 3</th>\n",
       "      <th>City</th>\n",
       "      <th>State</th>\n",
       "      <th>Pincode</th>\n",
       "      <th>Email</th>\n",
       "      <th>Fax</th>\n",
       "    </tr>\n",
       "  </thead>\n",
       "  <tbody>\n",
       "    <tr>\n",
       "      <td>0</td>\n",
       "      <td>1</td>\n",
       "      <td>ARMAN FINANCIAL SERVICES LIMITED</td>\n",
       "      <td>Ahmedabad</td>\n",
       "      <td>501-504,Sakar III</td>\n",
       "      <td>Opp . Old High  Court</td>\n",
       "      <td>Off. Ashram  Road</td>\n",
       "      <td>Ahmedabad</td>\n",
       "      <td>Gujarat</td>\n",
       "      <td>380014</td>\n",
       "      <td>finance@armanindia.com    website:www.armanind...</td>\n",
       "      <td>079  -27543666</td>\n",
       "    </tr>\n",
       "    <tr>\n",
       "      <td>1</td>\n",
       "      <td>2</td>\n",
       "      <td>Chinmay Finlease Ltd</td>\n",
       "      <td>Ahmedabad</td>\n",
       "      <td>Azad Chowk</td>\n",
       "      <td>NaN</td>\n",
       "      <td>Dist: Banaskantha(Ng)</td>\n",
       "      <td>Bhabhar</td>\n",
       "      <td>Gujarat</td>\n",
       "      <td>385320</td>\n",
       "      <td>Yogesh.majithia@gmail.com</td>\n",
       "      <td>02735-222481</td>\n",
       "    </tr>\n",
       "    <tr>\n",
       "      <td>2</td>\n",
       "      <td>3</td>\n",
       "      <td>Ishan Finlease Limited</td>\n",
       "      <td>Ahmedabad</td>\n",
       "      <td>608-609, Pratiksha Complex</td>\n",
       "      <td>Mahalaxmi Panch Rasta,</td>\n",
       "      <td>Near Paldi Cross Road, Paldi</td>\n",
       "      <td>Ahmedabad</td>\n",
       "      <td>Gujarat</td>\n",
       "      <td>380007</td>\n",
       "      <td>contactifpl@gmail.com</td>\n",
       "      <td>NaN</td>\n",
       "    </tr>\n",
       "    <tr>\n",
       "      <td>3</td>\n",
       "      <td>4</td>\n",
       "      <td>JAYLAKSHMI CREDIT COMPANY LIMITED</td>\n",
       "      <td>Ahmedabad</td>\n",
       "      <td>3/209, Ghanchi Sheri</td>\n",
       "      <td>Navapura</td>\n",
       "      <td>NaN</td>\n",
       "      <td>Surat</td>\n",
       "      <td>Gujarat</td>\n",
       "      <td>395003</td>\n",
       "      <td>smn_kadoli@yahoo.com</td>\n",
       "      <td>0261-2431085</td>\n",
       "    </tr>\n",
       "    <tr>\n",
       "      <td>4</td>\n",
       "      <td>5</td>\n",
       "      <td>K.Z. Leasing &amp; Finance Ltd</td>\n",
       "      <td>Ahmedabad</td>\n",
       "      <td>1st Floor,Deshna Chambers</td>\n",
       "      <td>B/H Kadva  Patidar Vadi</td>\n",
       "      <td>Usmanpura , Ashram Road</td>\n",
       "      <td>Ahmedabad</td>\n",
       "      <td>Gujarat</td>\n",
       "      <td>380014</td>\n",
       "      <td>kzleasing@yahoo.com</td>\n",
       "      <td>NaN</td>\n",
       "    </tr>\n",
       "    <tr>\n",
       "      <td>...</td>\n",
       "      <td>...</td>\n",
       "      <td>...</td>\n",
       "      <td>...</td>\n",
       "      <td>...</td>\n",
       "      <td>...</td>\n",
       "      <td>...</td>\n",
       "      <td>...</td>\n",
       "      <td>...</td>\n",
       "      <td>...</td>\n",
       "      <td>...</td>\n",
       "      <td>...</td>\n",
       "    </tr>\n",
       "    <tr>\n",
       "      <td>76</td>\n",
       "      <td>77</td>\n",
       "      <td>Opel Finance Ltd</td>\n",
       "      <td>Patna</td>\n",
       "      <td>2nd Floor Karpoora House</td>\n",
       "      <td>S P Verma Road</td>\n",
       "      <td>Patna</td>\n",
       "      <td>Patna</td>\n",
       "      <td>Bihar</td>\n",
       "      <td>800 001</td>\n",
       "      <td>opel96@sify.com</td>\n",
       "      <td>236589</td>\n",
       "    </tr>\n",
       "    <tr>\n",
       "      <td>77</td>\n",
       "      <td>78</td>\n",
       "      <td>Kerala  State Power  And  Infrastructure Finan...</td>\n",
       "      <td>Thiruvananthapuram</td>\n",
       "      <td>KPFC Bhavanam</td>\n",
       "      <td>Vellayambalam</td>\n",
       "      <td>Sasthamanglam P.O.</td>\n",
       "      <td>Thiruvananthapuram</td>\n",
       "      <td>Kerala</td>\n",
       "      <td>695 010</td>\n",
       "      <td>kpifc@asianetindia.com</td>\n",
       "      <td>0471-2735522</td>\n",
       "    </tr>\n",
       "    <tr>\n",
       "      <td>78</td>\n",
       "      <td>79</td>\n",
       "      <td>Muthoot Capital Services Ltd.</td>\n",
       "      <td>Thiruvananthapuram</td>\n",
       "      <td>Muthoot Towers</td>\n",
       "      <td>M G Road</td>\n",
       "      <td>Ernakulam</td>\n",
       "      <td>Kerala</td>\n",
       "      <td>Kerala</td>\n",
       "      <td>682035</td>\n",
       "      <td>mcsl@muthootcap.com</td>\n",
       "      <td>0484-2381261</td>\n",
       "    </tr>\n",
       "    <tr>\n",
       "      <td>79</td>\n",
       "      <td>80</td>\n",
       "      <td>Muthoot  Vehicle &amp; Asset  Finance Ltd</td>\n",
       "      <td>Thiruvananthapuram</td>\n",
       "      <td>Muthoot Chambers</td>\n",
       "      <td>Opp:Saritha Theatre Complex</td>\n",
       "      <td>Banerji Road</td>\n",
       "      <td>Kochi</td>\n",
       "      <td>Kerala</td>\n",
       "      <td>682018</td>\n",
       "      <td>mvfl@muthootgroup.com</td>\n",
       "      <td>0484-2396504</td>\n",
       "    </tr>\n",
       "    <tr>\n",
       "      <td>80</td>\n",
       "      <td>81</td>\n",
       "      <td>Sreeragh General Finance  Ltd.</td>\n",
       "      <td>Thiruvananthapuram</td>\n",
       "      <td>40/5454-E</td>\n",
       "      <td>Valavi House,Door No.67/2944,Market Road,</td>\n",
       "      <td>Kombara Junction,Kochi</td>\n",
       "      <td>Kochi</td>\n",
       "      <td>Kerala</td>\n",
       "      <td>682 018</td>\n",
       "      <td>sgfltd.ho@gmail.com</td>\n",
       "      <td>2363756</td>\n",
       "    </tr>\n",
       "  </tbody>\n",
       "</table>\n",
       "<p>81 rows × 11 columns</p>\n",
       "</div>"
      ],
      "text/plain": [
       "   S No                                Name of the company  \\\n",
       "0     1                   ARMAN FINANCIAL SERVICES LIMITED   \n",
       "1     2                               Chinmay Finlease Ltd   \n",
       "2     3                             Ishan Finlease Limited   \n",
       "3     4                  JAYLAKSHMI CREDIT COMPANY LIMITED   \n",
       "4     5                         K.Z. Leasing & Finance Ltd   \n",
       "..  ...                                                ...   \n",
       "76   77                                   Opel Finance Ltd   \n",
       "77   78  Kerala  State Power  And  Infrastructure Finan...   \n",
       "78   79                      Muthoot Capital Services Ltd.   \n",
       "79   80              Muthoot  Vehicle & Asset  Finance Ltd   \n",
       "80   81                     Sreeragh General Finance  Ltd.   \n",
       "\n",
       "       Regional Office                   Address 1  \\\n",
       "0            Ahmedabad           501-504,Sakar III   \n",
       "1            Ahmedabad                  Azad Chowk   \n",
       "2            Ahmedabad  608-609, Pratiksha Complex   \n",
       "3            Ahmedabad        3/209, Ghanchi Sheri   \n",
       "4            Ahmedabad   1st Floor,Deshna Chambers   \n",
       "..                 ...                         ...   \n",
       "76               Patna    2nd Floor Karpoora House   \n",
       "77  Thiruvananthapuram               KPFC Bhavanam   \n",
       "78  Thiruvananthapuram              Muthoot Towers   \n",
       "79  Thiruvananthapuram            Muthoot Chambers   \n",
       "80  Thiruvananthapuram                   40/5454-E   \n",
       "\n",
       "                                    Address 2                     Address 3  \\\n",
       "0                       Opp . Old High  Court             Off. Ashram  Road   \n",
       "1                                         NaN         Dist: Banaskantha(Ng)   \n",
       "2                      Mahalaxmi Panch Rasta,  Near Paldi Cross Road, Paldi   \n",
       "3                                    Navapura                           NaN   \n",
       "4                     B/H Kadva  Patidar Vadi       Usmanpura , Ashram Road   \n",
       "..                                        ...                           ...   \n",
       "76                             S P Verma Road                         Patna   \n",
       "77                              Vellayambalam            Sasthamanglam P.O.   \n",
       "78                                   M G Road                     Ernakulam   \n",
       "79                Opp:Saritha Theatre Complex                  Banerji Road   \n",
       "80  Valavi House,Door No.67/2944,Market Road,        Kombara Junction,Kochi   \n",
       "\n",
       "                  City    State  Pincode  \\\n",
       "0            Ahmedabad  Gujarat   380014   \n",
       "1              Bhabhar  Gujarat   385320   \n",
       "2            Ahmedabad  Gujarat   380007   \n",
       "3                Surat  Gujarat   395003   \n",
       "4            Ahmedabad  Gujarat   380014   \n",
       "..                 ...      ...      ...   \n",
       "76               Patna    Bihar  800 001   \n",
       "77  Thiruvananthapuram   Kerala  695 010   \n",
       "78              Kerala   Kerala   682035   \n",
       "79               Kochi   Kerala   682018   \n",
       "80               Kochi   Kerala  682 018   \n",
       "\n",
       "                                                Email             Fax  \n",
       "0   finance@armanindia.com    website:www.armanind...  079  -27543666  \n",
       "1                           Yogesh.majithia@gmail.com    02735-222481  \n",
       "2                               contactifpl@gmail.com             NaN  \n",
       "3                                smn_kadoli@yahoo.com    0261-2431085  \n",
       "4                                 kzleasing@yahoo.com             NaN  \n",
       "..                                                ...             ...  \n",
       "76                                    opel96@sify.com          236589  \n",
       "77                             kpifc@asianetindia.com    0471-2735522  \n",
       "78                                mcsl@muthootcap.com    0484-2381261  \n",
       "79                              mvfl@muthootgroup.com    0484-2396504  \n",
       "80                                sgfltd.ho@gmail.com         2363756  \n",
       "\n",
       "[81 rows x 11 columns]"
      ]
     },
     "execution_count": 40,
     "metadata": {},
     "output_type": "execute_result"
    }
   ],
   "source": [
    "correct_data"
   ]
  },
  {
   "cell_type": "code",
   "execution_count": 41,
   "metadata": {},
   "outputs": [],
   "source": [
    "city_data = correct_data['City']"
   ]
  },
  {
   "cell_type": "code",
   "execution_count": 42,
   "metadata": {},
   "outputs": [
    {
     "data": {
      "text/plain": [
       "0              Ahmedabad\n",
       "1                Bhabhar\n",
       "2              Ahmedabad\n",
       "3                  Surat\n",
       "4              Ahmedabad\n",
       "             ...        \n",
       "76                 Patna\n",
       "77    Thiruvananthapuram\n",
       "78                Kerala\n",
       "79                 Kochi\n",
       "80                 Kochi\n",
       "Name: City, Length: 81, dtype: object"
      ]
     },
     "execution_count": 42,
     "metadata": {},
     "output_type": "execute_result"
    }
   ],
   "source": [
    "city_data"
   ]
  },
  {
   "cell_type": "code",
   "execution_count": 43,
   "metadata": {},
   "outputs": [],
   "source": [
    "city = city_data.str.lower()"
   ]
  },
  {
   "cell_type": "code",
   "execution_count": 44,
   "metadata": {},
   "outputs": [
    {
     "data": {
      "text/plain": [
       "0              ahmedabad\n",
       "1                bhabhar\n",
       "2              ahmedabad\n",
       "3                  surat\n",
       "4              ahmedabad\n",
       "             ...        \n",
       "76                 patna\n",
       "77    thiruvananthapuram\n",
       "78                kerala\n",
       "79                 kochi\n",
       "80                 kochi\n",
       "Name: City, Length: 81, dtype: object"
      ]
     },
     "execution_count": 44,
     "metadata": {},
     "output_type": "execute_result"
    }
   ],
   "source": [
    "city"
   ]
  },
  {
   "cell_type": "code",
   "execution_count": 45,
   "metadata": {},
   "outputs": [
    {
     "data": {
      "text/plain": [
       "81"
      ]
     },
     "execution_count": 45,
     "metadata": {},
     "output_type": "execute_result"
    }
   ],
   "source": [
    "len(city)"
   ]
  },
  {
   "cell_type": "code",
   "execution_count": 46,
   "metadata": {},
   "outputs": [
    {
     "data": {
      "text/plain": [
       "41"
      ]
     },
     "execution_count": 46,
     "metadata": {},
     "output_type": "execute_result"
    }
   ],
   "source": [
    "len(city.unique())"
   ]
  },
  {
   "cell_type": "code",
   "execution_count": 47,
   "metadata": {},
   "outputs": [],
   "source": [
    "city.replace(to_replace=['rohtak, harayana', 'delhi new: new delhi','new delhi', 'new delhi/delhi'], \n",
    "                    value = ['rohtak','delhi','delhi','delhi'], inplace= True)"
   ]
  },
  {
   "cell_type": "code",
   "execution_count": 48,
   "metadata": {},
   "outputs": [
    {
     "data": {
      "text/plain": [
       "38"
      ]
     },
     "execution_count": 48,
     "metadata": {},
     "output_type": "execute_result"
    }
   ],
   "source": [
    "len(city.unique())"
   ]
  },
  {
   "cell_type": "code",
   "execution_count": 49,
   "metadata": {},
   "outputs": [],
   "source": [
    "city_frequencies = city.value_counts()"
   ]
  },
  {
   "cell_type": "code",
   "execution_count": 50,
   "metadata": {},
   "outputs": [
    {
     "data": {
      "text/plain": [
       "chennai               16\n",
       "delhi                 11\n",
       "jalandhar              7\n",
       "jammu                  6\n",
       "ahmedabad              3\n",
       "salem                  2\n",
       "rajkot                 2\n",
       "ludhiana               2\n",
       "mumbai                 2\n",
       "kochi                  2\n",
       "karur                  1\n",
       "namakkal               1\n",
       "rohtak, haryana        1\n",
       "kerala                 1\n",
       "pilibhit               1\n",
       "nagpur                 1\n",
       "bhabhar                1\n",
       "navapur                1\n",
       "patna                  1\n",
       "khanna                 1\n",
       "allahabad              1\n",
       "bareilly               1\n",
       "samastipur             1\n",
       "coimbatore             1\n",
       "bangalore              1\n",
       "surat                  1\n",
       "tirunelveli            1\n",
       "meerut                 1\n",
       "dharwad                1\n",
       "badaun                 1\n",
       "bijnor                 1\n",
       "chandigarh             1\n",
       "kolkata                1\n",
       "pune                   1\n",
       "gurgaon                1\n",
       "thiruvananthapuram     1\n",
       "moga                   1\n",
       "amritsar               1\n",
       "Name: City, dtype: int64"
      ]
     },
     "execution_count": 50,
     "metadata": {},
     "output_type": "execute_result"
    }
   ],
   "source": [
    "city_frequencies"
   ]
  },
  {
   "cell_type": "code",
   "execution_count": 51,
   "metadata": {},
   "outputs": [],
   "source": [
    "city_frequencies = dict(city_frequencies)"
   ]
  },
  {
   "cell_type": "code",
   "execution_count": 52,
   "metadata": {},
   "outputs": [
    {
     "data": {
      "text/plain": [
       "{'chennai': 16,\n",
       " 'delhi': 11,\n",
       " 'jalandhar': 7,\n",
       " 'jammu': 6,\n",
       " 'ahmedabad': 3,\n",
       " 'salem': 2,\n",
       " 'rajkot': 2,\n",
       " 'ludhiana': 2,\n",
       " 'mumbai': 2,\n",
       " 'kochi': 2,\n",
       " 'karur': 1,\n",
       " 'namakkal': 1,\n",
       " 'rohtak, haryana': 1,\n",
       " 'kerala': 1,\n",
       " 'pilibhit': 1,\n",
       " 'nagpur': 1,\n",
       " 'bhabhar': 1,\n",
       " 'navapur': 1,\n",
       " 'patna': 1,\n",
       " 'khanna': 1,\n",
       " 'allahabad': 1,\n",
       " 'bareilly': 1,\n",
       " 'samastipur': 1,\n",
       " 'coimbatore': 1,\n",
       " 'bangalore': 1,\n",
       " 'surat': 1,\n",
       " 'tirunelveli': 1,\n",
       " 'meerut': 1,\n",
       " 'dharwad': 1,\n",
       " 'badaun': 1,\n",
       " 'bijnor': 1,\n",
       " 'chandigarh': 1,\n",
       " 'kolkata': 1,\n",
       " 'pune': 1,\n",
       " 'gurgaon': 1,\n",
       " 'thiruvananthapuram': 1,\n",
       " 'moga': 1,\n",
       " 'amritsar': 1}"
      ]
     },
     "execution_count": 52,
     "metadata": {},
     "output_type": "execute_result"
    }
   ],
   "source": [
    "city_frequencies"
   ]
  },
  {
   "cell_type": "code",
   "execution_count": 53,
   "metadata": {},
   "outputs": [],
   "source": [
    "import matplotlib.pyplot as plt"
   ]
  },
  {
   "cell_type": "code",
   "execution_count": 54,
   "metadata": {},
   "outputs": [],
   "source": [
    "city_names = list(city_frequencies.keys())"
   ]
  },
  {
   "cell_type": "code",
   "execution_count": 55,
   "metadata": {},
   "outputs": [],
   "source": [
    "frequencies = list(city_frequencies.values())"
   ]
  },
  {
   "cell_type": "code",
   "execution_count": 57,
   "metadata": {},
   "outputs": [],
   "source": [
    "a_array = np.arange(0,len(city_frequencies))"
   ]
  },
  {
   "cell_type": "code",
   "execution_count": 58,
   "metadata": {},
   "outputs": [
    {
     "data": {
      "text/plain": [
       "array([ 0,  1,  2,  3,  4,  5,  6,  7,  8,  9, 10, 11, 12, 13, 14, 15, 16,\n",
       "       17, 18, 19, 20, 21, 22, 23, 24, 25, 26, 27, 28, 29, 30, 31, 32, 33,\n",
       "       34, 35, 36, 37])"
      ]
     },
     "execution_count": 58,
     "metadata": {},
     "output_type": "execute_result"
    }
   ],
   "source": [
    "a_array"
   ]
  },
  {
   "cell_type": "code",
   "execution_count": 59,
   "metadata": {},
   "outputs": [
    {
     "data": {
      "text/plain": [
       "([<matplotlib.axis.XTick at 0x11e9d4690>,\n",
       "  <matplotlib.axis.XTick at 0x11e9bb610>,\n",
       "  <matplotlib.axis.XTick at 0x11e9d4790>,\n",
       "  <matplotlib.axis.XTick at 0x11f4e3dd0>,\n",
       "  <matplotlib.axis.XTick at 0x11f4e3a50>,\n",
       "  <matplotlib.axis.XTick at 0x11f4e3050>,\n",
       "  <matplotlib.axis.XTick at 0x11f4ae710>,\n",
       "  <matplotlib.axis.XTick at 0x11f4aec90>,\n",
       "  <matplotlib.axis.XTick at 0x11f4ae150>,\n",
       "  <matplotlib.axis.XTick at 0x11f4e9190>,\n",
       "  <matplotlib.axis.XTick at 0x11f4e9c50>,\n",
       "  <matplotlib.axis.XTick at 0x11f4e9350>,\n",
       "  <matplotlib.axis.XTick at 0x11f507350>,\n",
       "  <matplotlib.axis.XTick at 0x11f507a50>,\n",
       "  <matplotlib.axis.XTick at 0x11f5074d0>,\n",
       "  <matplotlib.axis.XTick at 0x11f4e9390>,\n",
       "  <matplotlib.axis.XTick at 0x11f4e3b10>,\n",
       "  <matplotlib.axis.XTick at 0x11f50cf50>,\n",
       "  <matplotlib.axis.XTick at 0x11f50c210>,\n",
       "  <matplotlib.axis.XTick at 0x11f530a50>,\n",
       "  <matplotlib.axis.XTick at 0x11f530890>,\n",
       "  <matplotlib.axis.XTick at 0x11ea74890>,\n",
       "  <matplotlib.axis.XTick at 0x11ea742d0>,\n",
       "  <matplotlib.axis.XTick at 0x11ea83390>,\n",
       "  <matplotlib.axis.XTick at 0x11ea74b90>,\n",
       "  <matplotlib.axis.XTick at 0x11f54f810>,\n",
       "  <matplotlib.axis.XTick at 0x11f4e3c90>,\n",
       "  <matplotlib.axis.XTick at 0x11ea83fd0>,\n",
       "  <matplotlib.axis.XTick at 0x11ea83110>,\n",
       "  <matplotlib.axis.XTick at 0x11ea72950>,\n",
       "  <matplotlib.axis.XTick at 0x11ea72310>,\n",
       "  <matplotlib.axis.XTick at 0x11ea84a90>,\n",
       "  <matplotlib.axis.XTick at 0x11ea84590>,\n",
       "  <matplotlib.axis.XTick at 0x11ea84350>,\n",
       "  <matplotlib.axis.XTick at 0x11ea845d0>,\n",
       "  <matplotlib.axis.XTick at 0x11ea729d0>,\n",
       "  <matplotlib.axis.XTick at 0x11f50c350>,\n",
       "  <matplotlib.axis.XTick at 0x11e9d9610>],\n",
       " <a list of 38 Text xticklabel objects>)"
      ]
     },
     "execution_count": 59,
     "metadata": {},
     "output_type": "execute_result"
    },
    {
     "data": {
      "image/png": "[encoded data removed]",
      "text/plain": [
       "<Figure size 432x288 with 1 Axes>"
      ]
     },
     "metadata": {
      "needs_background": "light"
     },
     "output_type": "display_data"
    }
   ],
   "source": [
    "plt.xticks(a_array,city_names,rotation=90)"
   ]
  },
  {
   "cell_type": "code",
   "execution_count": 60,
   "metadata": {},
   "outputs": [
    {
     "data": {
      "text/plain": [
       "<BarContainer object of 38 artists>"
      ]
     },
     "execution_count": 60,
     "metadata": {},
     "output_type": "execute_result"
    },
    {
     "data": {
      "image/png": "[encoded data removed]",
      "text/plain": [
       "<Figure size 432x288 with 1 Axes>"
      ]
     },
     "metadata": {
      "needs_background": "light"
     },
     "output_type": "display_data"
    }
   ],
   "source": [
    "plt.bar(x=city_names,height=frequencies)"
   ]
  },
  {
   "cell_type": "code",
   "execution_count": 61,
   "metadata": {},
   "outputs": [],
   "source": [
    "states_data = correct_data['State']"
   ]
  },
  {
   "cell_type": "code",
   "execution_count": 62,
   "metadata": {},
   "outputs": [
    {
     "data": {
      "text/plain": [
       "0     Gujarat\n",
       "1     Gujarat\n",
       "2     Gujarat\n",
       "3     Gujarat\n",
       "4     Gujarat\n",
       "       ...   \n",
       "76      Bihar\n",
       "77     Kerala\n",
       "78     Kerala\n",
       "79     Kerala\n",
       "80     Kerala\n",
       "Name: State, Length: 81, dtype: object"
      ]
     },
     "execution_count": 62,
     "metadata": {},
     "output_type": "execute_result"
    }
   ],
   "source": [
    "states_data"
   ]
  },
  {
   "cell_type": "code",
   "execution_count": 67,
   "metadata": {},
   "outputs": [],
   "source": [
    "states_data = states_data.str.lower()"
   ]
  },
  {
   "cell_type": "code",
   "execution_count": 68,
   "metadata": {},
   "outputs": [],
   "source": [
    "states_data.dropna(inplace=True)"
   ]
  },
  {
   "cell_type": "code",
   "execution_count": 69,
   "metadata": {},
   "outputs": [
    {
     "data": {
      "text/plain": [
       "array(['gujarat', 'karnataka', 'punjab', 'chandigarh', 'tamil nadu',\n",
       "       'tamilnadu', 'jammu and kashmir', 'jammu & kashmir',\n",
       "       'uttar pradesh', 'west bengal', 'maharashtra', 'new delhi',\n",
       "       'haryana', 'delhi', 'bihar', 'kerala'], dtype=object)"
      ]
     },
     "execution_count": 69,
     "metadata": {},
     "output_type": "execute_result"
    }
   ],
   "source": [
    "states_data.unique()"
   ]
  },
  {
   "cell_type": "code",
   "execution_count": 71,
   "metadata": {},
   "outputs": [],
   "source": [
    "states_data.replace(to_replace=['tamilnadu','jammu & kashmir','new delhi'], \n",
    "                    value = ['tamil nadu', 'jammu and kashmir','delhi' ], inplace = True)"
   ]
  },
  {
   "cell_type": "code",
   "execution_count": 72,
   "metadata": {},
   "outputs": [
    {
     "data": {
      "text/plain": [
       "array(['gujarat', 'karnataka', 'punjab', 'chandigarh', 'tamil nadu',\n",
       "       'jammu and kashmir', 'uttar pradesh', 'west bengal', 'maharashtra',\n",
       "       'delhi', 'haryana', 'bihar', 'kerala'], dtype=object)"
      ]
     },
     "execution_count": 72,
     "metadata": {},
     "output_type": "execute_result"
    }
   ],
   "source": [
    "states_data.unique()"
   ]
  },
  {
   "cell_type": "code",
   "execution_count": 77,
   "metadata": {},
   "outputs": [],
   "source": [
    "state_frequencies = dict(states_data.value_counts() )"
   ]
  },
  {
   "cell_type": "code",
   "execution_count": 78,
   "metadata": {},
   "outputs": [
    {
     "data": {
      "text/plain": [
       "{'tamil nadu': 22,\n",
       " 'punjab': 12,\n",
       " 'delhi': 8,\n",
       " 'gujarat': 7,\n",
       " 'uttar pradesh': 6,\n",
       " 'jammu and kashmir': 5,\n",
       " 'kerala': 4,\n",
       " 'bihar': 2,\n",
       " 'karnataka': 1,\n",
       " 'chandigarh': 1,\n",
       " 'west bengal': 1,\n",
       " 'maharashtra': 1,\n",
       " 'haryana': 1}"
      ]
     },
     "execution_count": 78,
     "metadata": {},
     "output_type": "execute_result"
    }
   ],
   "source": [
    "state_frequencies"
   ]
  },
  {
   "cell_type": "code",
   "execution_count": 79,
   "metadata": {},
   "outputs": [],
   "source": [
    "state_name = list(state_frequencies.keys())\n",
    "state_frequencies = list(state_frequencies.values())"
   ]
  },
  {
   "cell_type": "code",
   "execution_count": 80,
   "metadata": {},
   "outputs": [],
   "source": [
    "b_array = np.arange(0,len(state_frequencies))"
   ]
  },
  {
   "cell_type": "code",
   "execution_count": 81,
   "metadata": {},
   "outputs": [
    {
     "data": {
      "text/plain": [
       "array([ 0,  1,  2,  3,  4,  5,  6,  7,  8,  9, 10, 11, 12])"
      ]
     },
     "execution_count": 81,
     "metadata": {},
     "output_type": "execute_result"
    }
   ],
   "source": [
    "b_array"
   ]
  },
  {
   "cell_type": "code",
   "execution_count": 82,
   "metadata": {},
   "outputs": [
    {
     "data": {
      "text/plain": [
       "<BarContainer object of 13 artists>"
      ]
     },
     "execution_count": 82,
     "metadata": {},
     "output_type": "execute_result"
    },
    {
     "data": {
      "image/png": "[encoded data removed]",
      "text/plain": [
       "<Figure size 432x288 with 1 Axes>"
      ]
     },
     "metadata": {
      "needs_background": "light"
     },
     "output_type": "display_data"
    }
   ],
   "source": [
    "plt.xticks(b_array,state_name,rotation=90)\n",
    "plt.bar(x=state_name, height = state_frequencies)"
   ]
  },
  {
   "cell_type": "code",
   "execution_count": 83,
   "metadata": {},
   "outputs": [],
   "source": [
    "email_data = correct_data['Email']"
   ]
  },
  {
   "cell_type": "code",
   "execution_count": 85,
   "metadata": {},
   "outputs": [],
   "source": [
    "email_data.dropna(inplace=True)"
   ]
  },
  {
   "cell_type": "code",
   "execution_count": 86,
   "metadata": {},
   "outputs": [],
   "source": [
    "email_data = email_data.str.lower()"
   ]
  },
  {
   "cell_type": "code",
   "execution_count": 87,
   "metadata": {},
   "outputs": [],
   "source": [
    "email_data = np.array(email_data)"
   ]
  },
  {
   "cell_type": "code",
   "execution_count": 89,
   "metadata": {},
   "outputs": [],
   "source": [
    "email_data = pd.Series(email_data,name = 'Email')"
   ]
  },
  {
   "cell_type": "code",
   "execution_count": 90,
   "metadata": {},
   "outputs": [
    {
     "data": {
      "text/plain": [
       "0     finance@armanindia.com    website:www.armanind...\n",
       "1                             yogesh.majithia@gmail.com\n",
       "2                                 contactifpl@gmail.com\n",
       "3                                  smn_kadoli@yahoo.com\n",
       "4                                   kzleasing@yahoo.com\n",
       "                            ...                        \n",
       "66                                      opel96@sify.com\n",
       "67                               kpifc@asianetindia.com\n",
       "68                                  mcsl@muthootcap.com\n",
       "69                                mvfl@muthootgroup.com\n",
       "70                                  sgfltd.ho@gmail.com\n",
       "Name: Email, Length: 71, dtype: object"
      ]
     },
     "execution_count": 90,
     "metadata": {},
     "output_type": "execute_result"
    }
   ],
   "source": [
    "email_data"
   ]
  },
  {
   "cell_type": "code",
   "execution_count": null,
   "metadata": {},
   "outputs": [],
   "source": [
    "email_data = email_data.str.split(\"/\")\n",
    "email_data = "
   ]
  }
 ],
 "metadata": {
  "kernelspec": {
   "display_name": "Python 3",
   "language": "python",
   "name": "python3"
  },
  "language_info": {
   "codemirror_mode": {
    "name": "ipython",
    "version": 3
   },
   "file_extension": ".py",
   "mimetype": "text/x-python",
   "name": "python",
   "nbconvert_exporter": "python",
   "pygments_lexer": "ipython3",
   "version": "3.7.4"
  }
 },
 "nbformat": 4,
 "nbformat_minor": 2
}
